{
 "cells": [
  {
   "cell_type": "markdown",
   "metadata": {},
   "source": [
    "## Importing libraries"
   ]
  },
  {
   "cell_type": "code",
   "execution_count": 1,
   "metadata": {},
   "outputs": [],
   "source": [
    "import pandas as pd\n",
    "import numpy as np\n",
    "import matplotlib.pyplot as plt\n",
    "from scipy.spatial import distance_matrix\n"
   ]
  },
  {
   "cell_type": "markdown",
   "metadata": {},
   "source": [
    "## Distance utilities"
   ]
  },
  {
   "cell_type": "code",
   "execution_count": 2,
   "metadata": {},
   "outputs": [],
   "source": [
    "def getRandomCordinates(numberOfCoordinates, numberOfDimensions=2):\n",
    "    return np.random.randint(0, numberOfCoordinates, (numberOfCoordinates, numberOfDimensions))\n",
    "\n",
    "\n",
    "def getDistanceTwoNodes(df, point1, point2):\n",
    "    if (point1 not in df.index or point2 not in df.index):\n",
    "        return -1\n",
    "    return df[point1][point2]\n",
    "\n",
    "\n",
    "def getDistance(df, listOfPoints):\n",
    "    totalDistance = 0\n",
    "    for i in range(1, len(listOfPoints)):\n",
    "        d = getDistanceTwoNodes(df, listOfPoints[i-1], listOfPoints[i])\n",
    "        if (d == -1):\n",
    "            return -1\n",
    "        totalDistance += d\n",
    "    return totalDistance\n",
    "\n",
    "\n",
    "def getDistanceMatrix(df):\n",
    "    return pd.DataFrame(distance_matrix(df.values, df.values), columns=df.index, index=df.index)"
   ]
  },
  {
   "cell_type": "markdown",
   "metadata": {},
   "source": [
    "## Genetic algorithm Utilities"
   ]
  },
  {
   "cell_type": "code",
   "execution_count": 3,
   "metadata": {},
   "outputs": [],
   "source": [
    "def mutation(paths):\n",
    "    for path in paths[1:]:\n",
    "        for i in range(np.random.randint(0, len(path)/2)):\n",
    "            index = np.random.randint(0, len(path), 2)\n",
    "            path[index[0]], path[index[1]] = path[index[1]], path[index[0]]\n",
    "    return paths\n",
    "\n",
    "\n",
    "def sortparents(parents, dfMatrix):\n",
    "    return sorted(parents, key=lambda x: getDistance(dfMatrix, np.append(x, x[0])))\n",
    "\n",
    "def randomCrossOver(paths):\n",
    "    index = np.random.randint(0, len(paths[0]), 2)\n",
    "    selection = paths[0][index[0]:index[1]]\n",
    "    mask = np.isin(paths[1], np.setdiff1d(paths[1], selection))\n",
    "    return np.append(paths[1][mask], selection)\n",
    "\n",
    "\n",
    "def crossOver(paths, totalPaths=10):\n",
    "    newPaths = [paths[0]]\n",
    "    for i in range(1, totalPaths):\n",
    "        index = np.random.randint(0, len(paths), 2)\n",
    "        newPaths.append(randomCrossOver([paths[index[0]], paths[index[1]]]))\n",
    "    return newPaths\n"
   ]
  },
  {
   "cell_type": "markdown",
   "metadata": {},
   "source": [
    "## Defining Genetic Algorithm"
   ]
  },
  {
   "cell_type": "code",
   "execution_count": 5,
   "metadata": {},
   "outputs": [],
   "source": [
    "def GeneticAlgorithm(df, matrixFormat=False, totalPaths=100, maxCrossOverSize=5, takeBest=5, maxiterations=2000):\n",
    "    results = []\n",
    "    dfMatrix = df\n",
    "    if(not matrixFormat):\n",
    "        dfMatrix = getDistanceMatrix(df)\n",
    "    paths = [np.random.permutation(df.index) for i in range(totalPaths)]\n",
    "\n",
    "    for i in range(maxiterations):\n",
    "        paths = sortparents(paths, dfMatrix)\n",
    "        results.append((i, paths[0], getDistance(\n",
    "            dfMatrix, np.append(paths[0], paths[0][0]))))\n",
    "        paths = crossOver(paths[:takeBest],\n",
    "                          np.random.randint(0, maxCrossOverSize))\n",
    "        paths = mutation(paths)\n",
    "\n",
    "    dfResults = pd.DataFrame(results, columns=[\n",
    "                             'Iteration', 'Path', 'Distance'])\n",
    "    return dfResults"
   ]
  },
  {
   "cell_type": "markdown",
   "metadata": {},
   "source": [
    "## Reading/Generating Data"
   ]
  },
  {
   "cell_type": "code",
   "execution_count": 4,
   "metadata": {},
   "outputs": [
    {
     "data": {
      "text/html": [
       "<div><div id=fa89fff1-8cc0-4040-8d90-605b8e5fce54 style=\"display:none; background-color:#9D6CFF; color:white; width:200px; height:30px; padding-left:5px; border-radius:4px; flex-direction:row; justify-content:space-around; align-items:center;\" onmouseover=\"this.style.backgroundColor='#BA9BF8'\" onmouseout=\"this.style.backgroundColor='#9D6CFF'\" onclick=\"window.commands?.execute('create-mitosheet-from-dataframe-output');\">See Full Dataframe in Mito</div> <script> if (window.commands.hasCommand('create-mitosheet-from-dataframe-output')) document.getElementById('fa89fff1-8cc0-4040-8d90-605b8e5fce54').style.display = 'flex' </script> <table border=\"1\" class=\"dataframe\">\n",
       "  <thead>\n",
       "    <tr style=\"text-align: right;\">\n",
       "      <th></th>\n",
       "      <th>x</th>\n",
       "      <th>y</th>\n",
       "    </tr>\n",
       "  </thead>\n",
       "  <tbody>\n",
       "    <tr>\n",
       "      <th>0</th>\n",
       "      <td>1</td>\n",
       "      <td>6</td>\n",
       "    </tr>\n",
       "    <tr>\n",
       "      <th>1</th>\n",
       "      <td>5</td>\n",
       "      <td>1</td>\n",
       "    </tr>\n",
       "    <tr>\n",
       "      <th>2</th>\n",
       "      <td>7</td>\n",
       "      <td>2</td>\n",
       "    </tr>\n",
       "    <tr>\n",
       "      <th>3</th>\n",
       "      <td>8</td>\n",
       "      <td>4</td>\n",
       "    </tr>\n",
       "    <tr>\n",
       "      <th>4</th>\n",
       "      <td>3</td>\n",
       "      <td>7</td>\n",
       "    </tr>\n",
       "    <tr>\n",
       "      <th>5</th>\n",
       "      <td>2</td>\n",
       "      <td>9</td>\n",
       "    </tr>\n",
       "    <tr>\n",
       "      <th>6</th>\n",
       "      <td>9</td>\n",
       "      <td>4</td>\n",
       "    </tr>\n",
       "    <tr>\n",
       "      <th>7</th>\n",
       "      <td>3</td>\n",
       "      <td>6</td>\n",
       "    </tr>\n",
       "    <tr>\n",
       "      <th>8</th>\n",
       "      <td>4</td>\n",
       "      <td>3</td>\n",
       "    </tr>\n",
       "    <tr>\n",
       "      <th>9</th>\n",
       "      <td>9</td>\n",
       "      <td>3</td>\n",
       "    </tr>\n",
       "  </tbody>\n",
       "</table></div>"
      ],
      "text/plain": [
       "   x  y\n",
       "0  1  6\n",
       "1  5  1\n",
       "2  7  2\n",
       "3  8  4\n",
       "4  3  7\n",
       "5  2  9\n",
       "6  9  4\n",
       "7  3  6\n",
       "8  4  3\n",
       "9  9  3"
      ]
     },
     "execution_count": 4,
     "metadata": {},
     "output_type": "execute_result"
    }
   ],
   "source": [
    "df = pd.DataFrame(getRandomCordinates(10), columns=['x', 'y'])\n",
    "#df = pd.read_csv(\"../../data/adjacency_matrix.csv\", index_col=0)\n",
    "df"
   ]
  },
  {
   "cell_type": "markdown",
   "metadata": {},
   "source": [
    "## Results and graphs"
   ]
  },
  {
   "cell_type": "code",
   "execution_count": 6,
   "metadata": {},
   "outputs": [],
   "source": [
    "dfResults = GeneticAlgorithm(df, matrixFormat = False, takeBest=5, maxiterations=200000)\n",
    "dfResults.to_csv('resultados_notebook.csv')"
   ]
  },
  {
   "cell_type": "code",
   "execution_count": 7,
   "metadata": {},
   "outputs": [
    {
     "data": {
      "text/plain": [
       "[<matplotlib.lines.Line2D at 0x7fa5a0fccb50>]"
      ]
     },
     "execution_count": 7,
     "metadata": {},
     "output_type": "execute_result"
    },
    {
     "data": {
      "image/png": "[encoded data removed]",
      "text/plain": [
       "<Figure size 432x288 with 1 Axes>"
      ]
     },
     "metadata": {},
     "output_type": "display_data"
    }
   ],
   "source": [
    "plt.plot(dfResults['Iteration'], dfResults['Distance'])"
   ]
  },
  {
   "cell_type": "code",
   "execution_count": 8,
   "metadata": {},
   "outputs": [
    {
     "data": {
      "text/plain": [
       "[<matplotlib.lines.Line2D at 0x7fa572c48be0>]"
      ]
     },
     "execution_count": 8,
     "metadata": {},
     "output_type": "execute_result"
    },
    {
     "data": {
      "image/png": "[encoded data removed]",
      "text/plain": [
       "<Figure size 432x288 with 1 Axes>"
      ]
     },
     "metadata": {},
     "output_type": "display_data"
    }
   ],
   "source": [
    "arr = [df.iloc[i] for i in dfResults[\"Path\"].iloc[-1]]\n",
    "order = pd.DataFrame(arr, columns=['x', 'y'])\n",
    "\n",
    "arr.append(arr[0])\n",
    "plt.plot(df[\"x\"], df[\"y\"], 'o')\n",
    "plt.plot(order[\"x\"], order[\"y\"])\n",
    "plt.savefig(\"../../graphs/\")"
   ]
  }
 ],
 "metadata": {
  "kernelspec": {
   "display_name": "Python 3.8.8 ('base')",
   "language": "python",
   "name": "python3"
  },
  "language_info": {
   "codemirror_mode": {
    "name": "ipython",
    "version": 3
   },
   "file_extension": ".py",
   "mimetype": "text/x-python",
   "name": "python",
   "nbconvert_exporter": "python",
   "pygments_lexer": "ipython3",
   "version": "3.8.8"
  },
  "orig_nbformat": 4,
  "vscode": {
   "interpreter": {
    "hash": "9f1d31597d60fa7c422518f03eb623fcb289bae95d3b6c9a3024cb9ecde26a3c"
   }
  }
 },
 "nbformat": 4,
 "nbformat_minor": 2
}
