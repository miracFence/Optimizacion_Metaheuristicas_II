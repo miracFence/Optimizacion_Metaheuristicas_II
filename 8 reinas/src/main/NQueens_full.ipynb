{
 "cells": [
  {
   "cell_type": "markdown",
   "metadata": {},
   "source": [
    "## Import libraries"
   ]
  },
  {
   "cell_type": "code",
   "execution_count": 1,
   "metadata": {},
   "outputs": [],
   "source": [
    "import numpy as np\n",
    "import pandas as pd\n",
    "import matplotlib.pyplot as plt"
   ]
  },
  {
   "cell_type": "markdown",
   "metadata": {},
   "source": [
    "## Fitness and permutations"
   ]
  },
  {
   "cell_type": "code",
   "execution_count": 36,
   "metadata": {},
   "outputs": [],
   "source": [
    "def clashes(poblacion):\n",
    "    conflictos = 0\n",
    "    for i in range(poblacion.shape[0]):\n",
    "        for j in range(poblacion.shape[0]):\n",
    "            if i != j:\n",
    "                if poblacion[i] == poblacion[j]:\n",
    "                    conflictos += 1\n",
    "                if abs(i - j) == abs(poblacion[i] - poblacion[j]):\n",
    "                    conflictos += 1\n",
    "    return conflictos\n",
    "\n",
    "def fitness(parents):\n",
    "    return sorted(parents, key=lambda x: clashes(x))\n",
    "    \n",
    "def randomCrossOver(paths, mutationRate=0.1):\n",
    "    index = np.random.randint(0, len(paths[0]), 2)\n",
    "    selection = paths[0][index[0]:index[1]]\n",
    "    mask = np.isin(paths[1], np.setdiff1d(paths[1], selection))\n",
    "    return np.append(paths[1][mask], selection)\n",
    "\n",
    "def crossOver(paths, totalPaths=10, mutationRate=0.6):\n",
    "    newPaths = [paths[0]]\n",
    "    for i in range(1, totalPaths):\n",
    "        if np.random.random() < mutationRate:\n",
    "            index = np.random.randint(0, len(paths), 2)\n",
    "            newPaths.append(randomCrossOver([paths[index[0]], paths[index[1]]]))\n",
    "    return newPaths\n",
    "\n",
    "def mutation(paths, mutationRate=0.001):\n",
    "    for i in range(1, len(paths)):\n",
    "        if np.random.random() < mutationRate:\n",
    "            index = np.random.randint(0, len(paths[0]), 2)\n",
    "            paths[i][index[0]], paths[i][index[1]] = paths[i][index[1]], paths[i][index[0]]\n",
    "    return paths"
   ]
  },
  {
   "cell_type": "markdown",
   "metadata": {},
   "source": [
    "## Genetic Algorithm"
   ]
  },
  {
   "cell_type": "code",
   "execution_count": 37,
   "metadata": {},
   "outputs": [],
   "source": [
    "def GeneticAlgorithm(parents, takebest=8, iteraciones=100):\n",
    "    res = []\n",
    "    for i in range(iteraciones):        \n",
    "        parents = fitness(parents)        \n",
    "        res.append([parents[0],clashes(parents[0])])\n",
    "        if(clashes(parents[0]) == 0):\n",
    "            break\n",
    "        parents = crossOver(parents, takebest)\n",
    "        parents = mutation(parents)\n",
    "    df = pd.DataFrame(res, columns=['solucion', 'conflictos'])\n",
    "    return fitness(parents), df "
   ]
  },
  {
   "cell_type": "code",
   "execution_count": 43,
   "metadata": {},
   "outputs": [
    {
     "data": {
      "text/plain": [
       "<AxesSubplot:>"
      ]
     },
     "execution_count": 43,
     "metadata": {},
     "output_type": "execute_result"
    },
    {
     "data": {
      "image/png": "[encoded data removed]",
      "text/plain": [
       "<Figure size 432x288 with 1 Axes>"
      ]
     },
     "metadata": {},
     "output_type": "display_data"
    }
   ],
   "source": [
    "n = 16\n",
    "positions = np.arange(n, dtype=int)\n",
    "positions = [np.random.permutation(positions) for i in range(n)] \n",
    "positions\n",
    "\n",
    "res ,df= GeneticAlgorithm(positions,takebest=n,iteraciones=10000)\n",
    "df.plot()"
   ]
  },
  {
   "cell_type": "code",
   "execution_count": 44,
   "metadata": {},
   "outputs": [
    {
     "data": {
      "text/html": [
       "<div><div id=82ec3412-2d21-49c7-b4b2-93572381b772 style=\"display:none; background-color:#9D6CFF; color:white; width:200px; height:30px; padding-left:5px; border-radius:4px; flex-direction:row; justify-content:space-around; align-items:center;\" onmouseover=\"this.style.backgroundColor='#BA9BF8'\" onmouseout=\"this.style.backgroundColor='#9D6CFF'\" onclick=\"window.commands?.execute('create-mitosheet-from-dataframe-output');\">See Full Dataframe in Mito</div> <script> if (window.commands.hasCommand('create-mitosheet-from-dataframe-output')) document.getElementById('82ec3412-2d21-49c7-b4b2-93572381b772').style.display = 'flex' </script> <table border=\"1\" class=\"dataframe\">\n",
       "  <thead>\n",
       "    <tr style=\"text-align: right;\">\n",
       "      <th></th>\n",
       "      <th>solucion</th>\n",
       "      <th>conflictos</th>\n",
       "    </tr>\n",
       "  </thead>\n",
       "  <tbody>\n",
       "    <tr>\n",
       "      <th>1232</th>\n",
       "      <td>[10, 12, 7, 11, 4, 1, 15, 8, 3, 13, 9, 5, 0, 14, 6, 2]</td>\n",
       "      <td>2</td>\n",
       "    </tr>\n",
       "    <tr>\n",
       "      <th>1233</th>\n",
       "      <td>[10, 12, 7, 11, 4, 1, 15, 8, 3, 13, 9, 5, 0, 14, 6, 2]</td>\n",
       "      <td>2</td>\n",
       "    </tr>\n",
       "    <tr>\n",
       "      <th>1234</th>\n",
       "      <td>[10, 12, 7, 11, 4, 1, 15, 8, 3, 13, 9, 5, 0, 14, 6, 2]</td>\n",
       "      <td>2</td>\n",
       "    </tr>\n",
       "    <tr>\n",
       "      <th>1235</th>\n",
       "      <td>[10, 12, 7, 11, 4, 1, 15, 8, 3, 13, 9, 5, 0, 14, 6, 2]</td>\n",
       "      <td>2</td>\n",
       "    </tr>\n",
       "    <tr>\n",
       "      <th>1236</th>\n",
       "      <td>[2, 0, 14, 6, 10, 12, 7, 11, 4, 1, 15, 8, 3, 13, 9, 5]</td>\n",
       "      <td>0</td>\n",
       "    </tr>\n",
       "  </tbody>\n",
       "</table></div>"
      ],
      "text/plain": [
       "                                               solucion  conflictos\n",
       "1232  [10, 12, 7, 11, 4, 1, 15, 8, 3, 13, 9, 5, 0, 1...           2\n",
       "1233  [10, 12, 7, 11, 4, 1, 15, 8, 3, 13, 9, 5, 0, 1...           2\n",
       "1234  [10, 12, 7, 11, 4, 1, 15, 8, 3, 13, 9, 5, 0, 1...           2\n",
       "1235  [10, 12, 7, 11, 4, 1, 15, 8, 3, 13, 9, 5, 0, 1...           2\n",
       "1236  [2, 0, 14, 6, 10, 12, 7, 11, 4, 1, 15, 8, 3, 1...           0"
      ]
     },
     "execution_count": 44,
     "metadata": {},
     "output_type": "execute_result"
    }
   ],
   "source": [
    "df.tail()"
   ]
  },
  {
   "cell_type": "markdown",
   "metadata": {},
   "source": [
    "## Plotting the last solution"
   ]
  },
  {
   "cell_type": "code",
   "execution_count": 45,
   "metadata": {},
   "outputs": [
    {
     "name": "stdout",
     "output_type": "stream",
     "text": [
      "[ 2  0 14  6 10 12  7 11  4  1 15  8  3 13  9  5] 0\n"
     ]
    },
    {
     "data": {
      "image/png": "[encoded data removed]",
      "text/plain": [
       "<Figure size 1152x1152 with 1 Axes>"
      ]
     },
     "metadata": {},
     "output_type": "display_data"
    }
   ],
   "source": [
    "def plotsolution(solucion , n):\n",
    "    fig = plt.figure(figsize=(n,n))\n",
    "    ax = fig.add_subplot(111)\n",
    "    ax.set_xlim(0,n)\n",
    "    ax.set_ylim(0,n)\n",
    "\n",
    "    for i in range(n):\n",
    "        for j in range(n):\n",
    "            if (i+j)%2==0:\n",
    "                ax.add_patch(plt.Rectangle((i,j),1,1, facecolor='black'))\n",
    "            else:\n",
    "                ax.add_patch(plt.Rectangle((i,j),1,1, facecolor='white'))\n",
    "\n",
    "    for i in range(n):\n",
    "        ax.add_patch(plt.Circle((i+.5,solucion[0][i]+.5), 0.4, facecolor='firebrick'))\n",
    "\n",
    "    plt.show()\n",
    "print(res[0], clashes(res[0]))\n",
    "plotsolution(res,n)"
   ]
  }
 ],
 "metadata": {
  "kernelspec": {
   "display_name": "Python 3.8.8 ('base')",
   "language": "python",
   "name": "python3"
  },
  "language_info": {
   "codemirror_mode": {
    "name": "ipython",
    "version": 3
   },
   "file_extension": ".py",
   "mimetype": "text/x-python",
   "name": "python",
   "nbconvert_exporter": "python",
   "pygments_lexer": "ipython3",
   "version": "3.8.8"
  },
  "orig_nbformat": 4,
  "vscode": {
   "interpreter": {
    "hash": "9f1d31597d60fa7c422518f03eb623fcb289bae95d3b6c9a3024cb9ecde26a3c"
   }
  }
 },
 "nbformat": 4,
 "nbformat_minor": 2
}
