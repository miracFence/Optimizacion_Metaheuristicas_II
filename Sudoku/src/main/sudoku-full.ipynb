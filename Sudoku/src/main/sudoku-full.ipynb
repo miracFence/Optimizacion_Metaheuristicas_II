{
 "cells": [
  {
   "cell_type": "code",
   "execution_count": 20,
   "metadata": {},
   "outputs": [],
   "source": [
    "import numpy as np \n",
    "import matplotlib.pyplot as plt\n",
    "import pandas as pd\n",
    "from IPython.display import clear_output\n",
    "\n",
    "from numba import jit, cuda\n",
    "import numba\n",
    "import random\n",
    "from numba.typed import List"
   ]
  },
  {
   "cell_type": "code",
   "execution_count": 21,
   "metadata": {},
   "outputs": [],
   "source": [
    "def create_sudoku():\n",
    "    base  = 3\n",
    "    side  = base*base\n",
    "\n",
    "    # pattern for a baseline valid solution\n",
    "    def pattern(r,c): \n",
    "        return (base*(r%base)+r//base+c)%side\n",
    "\n",
    "    # randomize rows, columns and numbers (of valid base pattern)\n",
    "    def shuffle(s): \n",
    "        return random.sample(s,len(s)) \n",
    "    \n",
    "    rBase = range(base) \n",
    "    rows  = [g*base + r for g in shuffle(rBase) for r in shuffle(rBase)] \n",
    "    cols  = [g*base + c for g in shuffle(rBase) for c in shuffle(rBase)]\n",
    "    nums  = shuffle(range(1,base*base+1))\n",
    "\n",
    "    # produce board using randomized baseline pattern\n",
    "    board = [ [nums[pattern(r,c)] for c in cols] for r in rows ]\n",
    "\n",
    "    return np.array(board)\n",
    "\n",
    "def remove_sudoku(sudoku, porcentaje=.5):\n",
    "    # remove numbers from sudoku\n",
    "    sudoku = sudoku.copy()\n",
    "    for i in range(9):\n",
    "        for j in range(9):\n",
    "            if np.random.rand() < porcentaje:\n",
    "                sudoku[i,j] = 0\n",
    "    return sudoku.astype(np.int64)"
   ]
  },
  {
   "cell_type": "code",
   "execution_count": 22,
   "metadata": {},
   "outputs": [],
   "source": [
    "#@jit(target_backend='cuda') \n",
    "def fitness(solucion, tam=9):\n",
    "    total = 0\n",
    "    for i in range(tam):\n",
    "        total += len(set(solucion[i]))\n",
    "    for i in range(tam):\n",
    "        total += len(set(solucion[:, i]))\n",
    "    for i in range(0, 9, 3):\n",
    "        for j in range(0, 9, 3):\n",
    "            total += len(set(solucion[i:i+3, j:j+3].flatten()))\n",
    "\n",
    "    return 3*tam**2-total\n",
    "\n",
    "#@jit(target_backend='cuda') \n",
    "def randomFill(sudoku, tam=9):\n",
    "    lista = np.arange(1, 10)\n",
    "    sudoku = sudoku.copy()\n",
    "    for i in range(tam):\n",
    "        #x = list(np.setdiff1d(lista, list(set(sudoku[i]))))\n",
    "        x = list(set(lista) - set(sudoku[i]))\n",
    "        x = np.array(x)\n",
    "        for j in range(tam):\n",
    "            if(sudoku[i, j] == 0):\n",
    "                v = np.random.choice(x)\n",
    "                sudoku[i, j] = v\n",
    "                x = np.delete(x, np.where(x == v)[0])\n",
    "    return sudoku\n",
    "\n",
    "#@jit(target_backend='cuda') \n",
    "def Tournament(poblacion):\n",
    "    index = np.random.randint(0, len(poblacion), 2)\n",
    "    if(fitness(poblacion[index[0]]) < fitness(poblacion[index[1]])):\n",
    "        return poblacion[index[0]]\n",
    "    return poblacion[index[1]]\n",
    "\n",
    "#@jit(target_backend='cuda') \n",
    "def randomCross(sudoku1, sudoku2, tam=9, mutationRate=0.5):\n",
    "    sudoku1 = sudoku1.copy()\n",
    "    index = np.random.randint(0, tam, 2)\n",
    "    \n",
    "    if random.uniform(0,1) < mutationRate:\n",
    "        \n",
    "        for i in np.arange(index[0], index[1]):\n",
    "            sudoku1[i] = sudoku2[i]\n",
    "    return sudoku1\n",
    "\n",
    "#@jit(target_backend='cuda')\n",
    "def crossOver(sudokus, totalSolutions=100, mutationRate=0.9):\n",
    "    s = [sudokus[0].copy()]\n",
    "    for i in range(1, totalSolutions):\n",
    "        uno = Tournament(sudokus)\n",
    "        dos = Tournament(sudokus)\n",
    "        s.append(randomCross(uno, dos))\n",
    "\n",
    "    return s\n",
    "    \n",
    "#@jit(target_backend='cuda') \n",
    "def getFreePosition(sudoku, tam=9):\n",
    "    dic = []\n",
    "    for i in range(tam):\n",
    "        array = []\n",
    "        for j in range(tam):\n",
    "            if(sudoku[i, j] == 0):\n",
    "                array.append(j)\n",
    "        if len(array) == 0:\n",
    "            dic.append(List([-1]))\n",
    "        else:\n",
    "            dic.append(List(array))\n",
    "\n",
    "    \n",
    "    return List(dic)\n",
    "\n",
    "#@jit(target_backend='cuda') \n",
    "def mutation(sudoku, noMoviles, tam=9, mutationRate=0.9):\n",
    "    s = sudoku.copy()\n",
    "    for i in range(tam):\n",
    "        if  random.uniform(0,1)  < mutationRate:\n",
    "            v = len(noMoviles[i]) \n",
    "            index =[0,0]\n",
    "            index[0],index[1] = random.randint(0, v-1),random.randint(0, v-1)\n",
    "            if index[0]<0 or index[1]<0:\n",
    "                continue\n",
    "            v = noMoviles[i][index[0]], noMoviles[i][index[1]]\n",
    "            \n",
    "            s[i, v[0]], s[i, v[1]] = s[i, v[1]], s[i, v[0]]\n",
    "            x = 20\n",
    "\n",
    "    return s\n",
    "#@jit(target_backend='cuda') \n",
    "def mutate(padres, noMoviles):\n",
    "    arr = [padres[0]]\n",
    "    for i in range(1, len(padres)):\n",
    "        arr.append(mutation(padres[i], noMoviles))\n",
    "    return arr\n",
    "                        \n",
    "def selecction(padres):\n",
    "    return sorted(padres, key=lambda x: fitness(x))"
   ]
  },
  {
   "cell_type": "code",
   "execution_count": 23,
   "metadata": {},
   "outputs": [],
   "source": [
    "def geneticAlgorithm(sudoku,totalSolutions = 100,iteraciones=100,tam=9,mutationRate=0.9,takeBest=20):\n",
    "    noMoviles = getFreePosition(sudoku)\n",
    "    padres =  [randomFill(sudoku) for i in range(totalSolutions)] \n",
    "\n",
    "    resultados = []\n",
    "\n",
    "    for i in range(iteraciones):\n",
    "       \n",
    "        padres = selecction(padres)\n",
    "        resultados.append([padres[0], fitness(padres[0])])\n",
    "        clear_output(wait=True)\n",
    "        arr = np.array([fitness(x) for x in padres])\n",
    "        print(\"std \", np.std(arr) , \" mean \", np.mean(arr))\n",
    "        print(\"Iteration: \",i, \",fitness: \", resultados[-1][1], end=\"\\r\")\n",
    "        \n",
    "        if( resultados[-1][1]==0):\n",
    "            break\n",
    "        padres = crossOver(padres[:takeBest],totalSolutions)\n",
    "        padres = mutate(padres, noMoviles)\n",
    "        \n",
    "    return pd.DataFrame(resultados, columns=['sudoku', 'fitness'])"
   ]
  },
  {
   "cell_type": "code",
   "execution_count": 24,
   "metadata": {},
   "outputs": [],
   "source": [
    "def plotSolution(sudoku,n = 9):        \n",
    "    fig, ax = plt.subplots(figsize=(n, n))   \n",
    "    ax.set_title('Sudoku') \n",
    "    ax.set_xlim(0,n)\n",
    "    ax.set_ylim(0,n)\n",
    "    major_ticks = np.arange(0, n, n/3)\n",
    "    minor_ticks = np.arange(0, n, 1)\n",
    "    ax.set_xticks(major_ticks)\n",
    "    ax.set_xticks(minor_ticks, minor=True)\n",
    "    ax.set_yticks(major_ticks)\n",
    "    ax.set_yticks(minor_ticks, minor=True)\n",
    "    ax.grid(which='both')\n",
    "    ax.grid(which='minor', alpha=0.3)\n",
    "    ax.grid(which='major', alpha=0.9,linewidth=2)\n",
    "    for i in range(n):\n",
    "        for j in range(n):\n",
    "            text = ax.text(j+.5, i+.5, sudoku[i, j], ha=\"center\", va=\"center\", color=\"r\")\n",
    "    plt.show()"
   ]
  },
  {
   "cell_type": "code",
   "execution_count": 25,
   "metadata": {},
   "outputs": [
    {
     "name": "stdout",
     "output_type": "stream",
     "text": [
      "[[0 4 3 6 9 7 2 1 8]\n",
      " [0 0 9 0 0 1 0 0 0]\n",
      " [2 0 8 0 3 0 6 7 9]\n",
      " [8 6 1 3 4 2 0 5 7]\n",
      " [0 0 7 8 1 0 0 2 4]\n",
      " [3 2 4 9 0 0 0 6 0]\n",
      " [1 9 0 0 0 8 7 3 5]\n",
      " [4 0 0 7 5 0 1 9 6]\n",
      " [7 3 5 0 6 0 4 0 2]]\n"
     ]
    }
   ],
   "source": [
    "solucion = create_sudoku()\n",
    "sudoku =  remove_sudoku(solucion, porcentaje=0.3)\n",
    "#sudoku = pd.read_csv(\"sudoku.csv\", sep=',', header=None)\n",
    "#sudoku = sudoku.values\n",
    "print(sudoku)\n"
   ]
  },
  {
   "cell_type": "code",
   "execution_count": 27,
   "metadata": {},
   "outputs": [
    {
     "name": "stdout",
     "output_type": "stream",
     "text": [
      "std  4.559443387081367  mean  19.574\n",
      "Iteration:  20 ,fitness:  0\r"
     ]
    }
   ],
   "source": [
    "df = geneticAlgorithm(sudoku,totalSolutions=1000,iteraciones=10000,takeBest=100,tam=9,mutationRate=0.5)\n",
    "df.to_csv('resultados.csv')"
   ]
  },
  {
   "cell_type": "code",
   "execution_count": 28,
   "metadata": {},
   "outputs": [
    {
     "data": {
      "image/png": "[encoded data removed]",
      "text/plain": [
       "<Figure size 648x648 with 1 Axes>"
      ]
     },
     "metadata": {},
     "output_type": "display_data"
    },
    {
     "data": {
      "image/png": "[encoded data removed]",
      "text/plain": [
       "<Figure size 648x648 with 1 Axes>"
      ]
     },
     "metadata": {},
     "output_type": "display_data"
    }
   ],
   "source": [
    "plotSolution(sudoku)\n",
    "plotSolution(df.iloc[-1]['sudoku'])"
   ]
  }
 ],
 "metadata": {
  "kernelspec": {
   "display_name": "Python 3.8.8 ('base')",
   "language": "python",
   "name": "python3"
  },
  "language_info": {
   "codemirror_mode": {
    "name": "ipython",
    "version": 3
   },
   "file_extension": ".py",
   "mimetype": "text/x-python",
   "name": "python",
   "nbconvert_exporter": "python",
   "pygments_lexer": "ipython3",
   "version": "3.8.8"
  },
  "orig_nbformat": 4,
  "vscode": {
   "interpreter": {
    "hash": "9f1d31597d60fa7c422518f03eb623fcb289bae95d3b6c9a3024cb9ecde26a3c"
   }
  }
 },
 "nbformat": 4,
 "nbformat_minor": 2
}
